{
 "cells": [
  {
   "cell_type": "markdown",
   "metadata": {},
   "source": [
    "<script type=\"text/x-mathjax-config\">\n",
    "MathJax.Hub.Config({\n",
    "  TeX: { equationNumbers: { autoNumber: \"AMS\" } }\n",
    "});\n",
    "</script>\n",
    "\n",
    "<h1><center>Machine Learning in Healthcare Informatics</center></h1>\n",
    "\n",
    "## Temporal Needleman-Wunsch\n",
    "\n",
    "Consider two temporal sequences:\n",
    "\n",
    ">$X = t_{x_1}.x_1, t_{x_2}.x_2,..., t_{x_m}x_m$  \n",
    "<br><br>\n",
    "$Y = t_{y_1}.y_1, t_{y_2}.y_2,...,t_{y_n}.y_n$, \n",
    "<br><br>\n",
    "where $t_{x_i}$ and $t_{y_j}$ are the transition times for elements $x_i$ and $y_j$, respectively, for $i\\in [1,m]$ and $j\\in [1,n]$.\n",
    "\n",
    "The Temporal Needleman-Wunsch algorithm is a modified version of the Needleman-Wunsch method that incorporates the transition times between elements of a sequence. It gives us the best alignment between two sequences given some user defined parameters.\n",
    "\n",
    "#### User defined parameters:\n",
    "* $g$: gap penalty\n",
    "* $ S(x_i,y_j)$ : pre-defined scoring schema\n",
    "* f : temporal penalty function\n",
    "> \\begin{equation}\n",
    "    f(t_{x},t_{y}) = T_p\\frac{|t_{x}-t_{y}|}{\\max(t_{x},t_{y})}\n",
    "  \\label{eq:temporal_penalty}\n",
    "  \\end{equation}\n",
    "<br><br>\n",
    "where $T_p$ is a constant\n",
    "\n",
    "Similarly to the Needleman-Wunsch consists on three steps:\n",
    "1. Initialisation of the score matrix $H$, traceback matrix $T$ and auxiliary matrices $TR$ and $TC$\n",
    ">\\begin{equation}\n",
    "H_{r0} = -rg; \\ \\ \\ H_{0c} = -cg \\quad \\forall r \\in [0,m], c \\in [0,n]\n",
    "\\label{eq:init}\n",
    "\\end{equation}\n",
    "\n",
    "2. Calculation of scores, filling the traceback matrix and auxiliary matrices\n",
    ">\\begin{equation}\n",
    "\tH_{i,j} = \\max \n",
    "\t\\left\\{\\!\\begin{aligned}\n",
    "&H_{i-1,j-1} + S(x_i,y_j) - f(t_{x_i}+TR_{i-1,j-1},t_{y_j}+TC_{i-1,j-1}) (*)\\\\[1ex]\n",
    "&H_{i-1,j} - g \\\\[1ex]\n",
    "&H_{i,j-1} - g\n",
    "\\end{aligned}\\right\\}, \\quad \\forall i \\in [1,m], j \\in [1,n]\n",
    "\\label{eq:tnw}\n",
    "\\end{equation}\n",
    "<br><br>\n",
    "\\begin{equation}\n",
    "TR_{i,j}=\n",
    "  \\begin{cases}\n",
    "    0, & \\text{if $T_{i,j} =$ 'diag'}\\\\\n",
    "    TR_{i,j-1} & \\text{if $T_{i,j}=$ 'left'}\\\\\n",
    "    TR_{i-1,j} + t_{xi} & \\text{if $T_{i,j}=$ 'up'}\n",
    "  \\end{cases}\n",
    "  \\label{eq:TR}\n",
    "\\end{equation}\n",
    "<br><br>\n",
    "\\begin{equation}\n",
    "TC_{i,j}=\n",
    "  \\begin{cases}\n",
    "    0, & \\text{if $T_{i,j} =$ 'diag'}\\\\\n",
    "    TC_{i,j-1} + t_{yj} & \\text{if $T_{i,j}=$ 'left'}\\\\\n",
    "    Tc_{i-1,j}  & \\text{if $T_{i,j}=$ 'up'}\n",
    "  \\end{cases}\n",
    "  \\label{eq:TC}\n",
    "\\end{equation}\n",
    "<br><br>\n",
    "\\begin{equation}\n",
    "T_{i_,j}=\n",
    "   \\begin{cases}\n",
    "     \\text{'diag'}, & \\text{if $H_{i,j} =$ *}\\\\\n",
    "     \\text{'up'} & \\text{if $H_{i,j}= $ $H_{i-1,j} - g$}\\\\\n",
    "    \\text{'left'}  & \\text{if $H_{i,j}=$ $H_{i,j-1} - g$}\n",
    "  \\end{cases}\n",
    "  \\label{eq:T}\n",
    "\\end{equation}\n",
    "\n",
    "3. Deducing the alignment from the traceback matrix\n",
    "\n",
    "\n",
    "### Example\n",
    "\n",
    ">$ X = 0.A,t_1.B,t_2.C,t_3.D $\n",
    "<br><br>\n",
    "$ Y = 0.A,t_4.D $\n",
    "<br><br>\n",
    "where $t_4 = t_1+t_2+t_3$\n",
    "<br><br>\n",
    "Lets assume $t_1=1,t_2=2,t_3=1$ and  $t_4=4$\n",
    "\n",
    "For this example the user-defined parameters are:\n",
    "\n",
    "* $g = 0.5$\n",
    "* simple scoring system: exact matching events get a score of 1 and events that do not match get a score of -1.1\n",
    "* $T_p = 0.25$\n",
    "\n",
    "\n",
    "#### 1. Initialisation\n",
    "\n",
    "We start building our matrix $H$ using equation \\ref{eq:init}. The remaining matrices are computed using equations \\ref{eq:TR}, \\ref{eq:TC} and \\ref{eq:T} with the exception of the first entry which is $TR_{00} = 0$, $TC_{00} = 0$ and $T_{00} =$ 'done'. The following animation show us the initialisiaton of all entries of our 4 matrices. In black we have the values of the score matrix ($H_{ij}$) and traceback matrix ($T_{ij}$), in <font color='blue'>blue</font> and in <font color='green'>green</font>  it is represented the entries of matrix $TR$ and $TC$ respectively.\n",
    "\n",
    "\n",
    "<img id=\"img1\" src=\"tnw_initialisation_gif.gif\">\n",
    "\n",
    "<a onClick=\"resetGif('img1')\">reset gif initialisation</a>\n",
    "\n",
    "<script type=\"text/javascript\">\n",
    "\n",
    "// reset an animated gif to start at first image without reloading it from server.\n",
    "// Note: if you have the same image on the page more than ones, they all reset.\n",
    "function resetGif(id) {\n",
    "    var img = document.getElementById(id);\n",
    "    var imageUrl = img.src;\n",
    "    img.src = \"#\";\n",
    "    img.src = imageUrl;\n",
    "};\n",
    "\n",
    "</script>\n",
    "\n",
    "#### 2. Calculations\n",
    "\n",
    "Now for the calculation of the entries of matrix $H$ we use equation \\ref{eq:tnw}. The other matrices entries are computed as above. The following animation show us the computation of all remaining entries.\n",
    "\n",
    "<img id=\"img2\" src=\"tnw_calculations_gif.gif\">\n",
    "\n",
    "<a onClick=\"resetGif('img2')\">reset gif calculations</a>\n",
    "\n",
    "\n",
    "#### 3. Alignment\n",
    "\n",
    "Finnaly the alignment is obtained by analysing the matrix $T$. The following animation show us how to obtain the alignment. Whenever we see 'diag' it means that a 'pair' of elements is matched; 'up' means that an element of sequence $X$ is aligned with gap whereas 'left' an element of sequence $Y$ is aligned with a gap.\n",
    "\n",
    "<img id=\"img3\" src=\"tnw_alignment_gif.gif\">\n",
    "\n",
    "<a onClick=\"resetGif('img3')\">reset gif alignment</a>\n"
   ]
  },
  {
   "cell_type": "markdown",
   "metadata": {
    "collapsed": true
   },
   "source": [
    "### Implementation"
   ]
  },
  {
   "cell_type": "code",
   "execution_count": 1,
   "metadata": {
    "collapsed": true
   },
   "outputs": [],
   "source": [
    "import numpy as np\n",
    "import itertools\n",
    "from IPython.display import display, HTML"
   ]
  },
  {
   "cell_type": "code",
   "execution_count": 2,
   "metadata": {
    "collapsed": true
   },
   "outputs": [],
   "source": [
    "#initialize pre-defined scoring dictionary\n",
    "def scoring_schema():\n",
    "    \n",
    "    match = 1\n",
    "    mismatch = -1.1\n",
    "    \n",
    "    s = {'OO': match}\n",
    "    #get all combinations of letters\n",
    "    comb = list(itertools.product('ABCDEFGHIJZ',repeat = 2))\n",
    "\n",
    "    #construct the pre-defined scoring system\n",
    "    for pairs in comb:\n",
    "        if(pairs[0]==pairs[1]):\n",
    "            s[pairs[0]+pairs[1]] = match\n",
    "        else:\n",
    "            s[pairs[0]+pairs[1]] = mismatch\n",
    "    \n",
    "    return s\n",
    "         \n",
    "\n",
    "# Initialisation of the score matrix\n",
    "def score_initialisation(rows,cols,gap):\n",
    "    \n",
    "            \n",
    "    score=np.zeros((rows,cols),float)\n",
    "\n",
    "    for i in range(rows):\n",
    "        score[i][0] = -i*gap\n",
    "    for j in range(cols):\n",
    "        score[0][j] = -j*gap\n",
    "             \n",
    "    return score\n",
    "\n",
    "# Initialisation of the traceback matrix\n",
    "def traceback_initialisation(rows,cols):\n",
    "    \n",
    "            \n",
    "    traceback=np.zeros((rows,cols))\n",
    "\n",
    "    # end of path top left corner\n",
    "    traceback[0][0] = -1\n",
    "\n",
    "    #going up\n",
    "    for i in range(1,rows):\n",
    "        traceback[i][0] = 1 \n",
    "    \n",
    "    #going left\n",
    "    for j in range(1,cols):\n",
    "        traceback[0][j] = 2\n",
    "             \n",
    "    return traceback\n",
    "\n",
    "\n",
    "# Initialisation of the TR matrix\n",
    "def TR_initialisation(rows,cols,traceback,seq2):\n",
    "    \n",
    "            \n",
    "    TR=np.zeros((rows,cols))\n",
    "\n",
    "    # end of path top left corner\n",
    "    TR[0][0] = 0\n",
    "\n",
    "    #going up\n",
    "    for i in range(1,rows):\n",
    "        TR[i][0] = TR[i-1][0]+float(seq2[i-1][0]) \n",
    "    \n",
    "    #going left\n",
    "    for j in range(1,cols):\n",
    "        TR[0][j] = 0\n",
    "             \n",
    "    return TR\n",
    "\n",
    "# Initialisation of the TC matrix\n",
    "def TC_initialisation(rows,cols,traceback,seq1):\n",
    "    \n",
    "            \n",
    "    TC=np.zeros((rows,cols))\n",
    "\n",
    "    # end of path top left corner\n",
    "    TC[0][0] = 0\n",
    "\n",
    "    #going up\n",
    "    for i in range(1,rows):\n",
    "        TC[i][0] = 0\n",
    "    \n",
    "    #going left\n",
    "    for j in range(1,cols):\n",
    "        TC[0][j] = TC[0][j-1]+float(seq1[j-1][0]) \n",
    "             \n",
    "    return TC\n",
    "\n",
    "# calculation of the scores and filling the traceback matrix\n",
    "def calculate_scores(score,traceback,rows,cols,seq1,seq2,TR,TC,s,gap,T):    \n",
    "    \n",
    "    for i in range(1,rows):\n",
    "        for j in range(1,cols):\n",
    "            # Dynamic programing -- aka. divide and conquer:\n",
    "            # Since gap penalties are linear in gap size\n",
    "            # the score of an alignmet of length l only depends on the   \n",
    "            # the l-th characters in the alignment (match - mismatch - gap)\n",
    "            # and the score of the one shorter (l-1) alignment,\n",
    "            # i.e. we can calculate how to extend an arbritary alignment\n",
    "            # soley based on the previous score value.  \n",
    "            \n",
    "            if i-1 == 0 and j-1 == 0:\n",
    "                tp = 0\n",
    "            else:\n",
    "                num = abs(float(seq2[i-1][0])+TR[i-1][j-1]-float(seq1[j-1][0])-TC[i-1][j-1])\n",
    "                den = max(float(seq2[i-1][0])+TR[i-1][j-1],float(seq1[j-1][0])+TC[i-1][j-1])\n",
    "                #temporal penalty function\n",
    "                tp = T*(num/den)\n",
    "                \n",
    "            choice1 = score[i-1][j-1] + s[(seq1[j-1][1] + seq2[i-1][1])] - tp #diagonal\n",
    "            choice2 = score[i-1][j] - gap #up\n",
    "            choice3 = score[i][j-1] - gap #left\n",
    "            choices = [choice1,choice2,choice3]\n",
    "            score[i][j] = max(choices)    \n",
    "            \n",
    "            # update traceback matrix 0-diagonal, 1-up, 2-left\n",
    "            traceback[i][j] = choices.index(max(choices))\n",
    "            \n",
    "            #update TR and TC matrices\n",
    "            if traceback[i][j] == 0:\n",
    "                TR[i][j] = 0\n",
    "                TC[i][j] = 0\n",
    "                  \n",
    "            elif traceback[i][j] == 1:\n",
    "                TR[i][j] = TR[i-1][j] + float(seq2[i-1][0])\n",
    "                TC[i][j] = TC[i-1][j]\n",
    "                \n",
    "            elif traceback[i][j] == 2:\n",
    "                TR[i][j] = TR[i][j-1] \n",
    "                TC[i][j] = TC[i][j-1] + float(seq1[j-1][0])\n",
    "                \n",
    "# deducing the alignment from the traceback matrix\n",
    "def alignment(traceback,rows,cols,seq1,seq2):\n",
    "\n",
    "    aseq1 = ''\n",
    "    aseq2 = ''\n",
    "    \n",
    "    #number of aligned events\n",
    "    count_aligned = 0\n",
    "    \n",
    "    #We reconstruct the alignment into aseq1 and aseq2, \n",
    "    j = cols-1\n",
    "    i = rows-1\n",
    "    while i>0 and j>0:\n",
    "        \n",
    "        # going diagonal\n",
    "        if traceback[i][j] == 0:\n",
    "            aseq1 = seq1[j-1][1] + aseq1\n",
    "            aseq2 = seq2[i-1][1] + aseq2\n",
    "            i -= 1\n",
    "            j -= 1\n",
    "            count_aligned = count_aligned + 1\n",
    "        # going up -gap in sequence1 (top one)\n",
    "        elif traceback[i][j] == 1:\n",
    "            aseq1 = '_' + aseq1\n",
    "            aseq2 = seq2[i-1][1] + aseq2\n",
    "            i -= 1\n",
    "        # going left -gap in sequence2 (left one)\n",
    "        elif traceback[i][j] == 2:\n",
    "            aseq1 = seq1[j-1][1] + aseq1\n",
    "            aseq2 = '_' + aseq2\n",
    "            j -= 1\n",
    "        else:\n",
    "            #should never get here..\n",
    "            print('ERROR')\n",
    "            i=0\n",
    "            j=0\n",
    "            aseq1='ERROR';aseq2='ERROR';seq1='ERROR';seq2='ERROR'\n",
    "    \n",
    "    while i>0:\n",
    "        #If we hit j==0 before i==0 we keep going in i (up).\n",
    "        aseq1 = '_' + aseq1\n",
    "        aseq2 = seq2[i-1][1] + aseq2\n",
    "        i -= 1     \n",
    "\n",
    "    while j>0:\n",
    "        #If we hit i==0 before j==0 we keep going in j (left).\n",
    "        aseq1 = seq1[j-1][1] + aseq1\n",
    "        aseq2 = '_' + aseq2\n",
    "        j -= 1\n",
    "        \n",
    "        \n",
    "    aligned = [aseq1, aseq2, count_aligned]\n",
    "    \n",
    "    return aligned\n",
    "    \n",
    "# main algorithm\n",
    "def tnw(seq1_encoded,seq2_encoded,gap,T,ss):\n",
    "\n",
    "    \n",
    "    aux1 = seq1_encoded.split(\",\")\n",
    "    aux2 = seq2_encoded.split(\",\")\n",
    "    \n",
    "    seq1 = []\n",
    "    seq2 = []\n",
    "    \n",
    "    for seq in aux1:\n",
    "        seq1.append(seq.split(\".\"))\n",
    "\n",
    "    for seq in aux2:\n",
    "        seq2.append(seq.split(\".\"))\n",
    "        \n",
    "    cols=len(seq1)+1\n",
    "    rows=len(seq2)+1\n",
    "            \n",
    "    #initialisation of matrices\n",
    "    score = score_initialisation(rows,cols,gap)\n",
    "    traceback = traceback_initialisation(rows,cols)\n",
    "    TR = TR_initialisation(rows,cols,traceback,seq2)\n",
    "    TC = TC_initialisation(rows,cols,traceback,seq1)\n",
    "    \n",
    "    #computing matrices\n",
    "    calculate_scores(score,traceback,rows,cols,seq1,seq2,TR,TC,ss,gap,T)\n",
    "    \n",
    "    #deducing alignment\n",
    "    sequences_aligned = alignment(traceback,rows,cols,seq1,seq2)\n",
    "    \n",
    "    print(\"score\")\n",
    "    print(score)\n",
    "    print(\"traceback\")\n",
    "    print(traceback)\n",
    "    print(\"TR\")\n",
    "    print(TR)\n",
    "    print(\"TC\")\n",
    "    print(TC)\n",
    "    \n",
    "    print(sequences_aligned[0])\n",
    "    print(sequences_aligned[1])\n",
    "    \n",
    "    return score[rows-1,cols-1]"
   ]
  },
  {
   "cell_type": "code",
   "execution_count": 3,
   "metadata": {
    "collapsed": false
   },
   "outputs": [
    {
     "name": "stdout",
     "output_type": "stream",
     "text": [
      "score\n",
      "[[ 0.  -0.5 -1. ]\n",
      " [-0.5  1.   0.5]\n",
      " [-1.   0.5  0. ]\n",
      " [-1.5  0.  -0.5]\n",
      " [-2.  -0.5  1. ]]\n",
      "traceback\n",
      "[[-1.  2.  2.]\n",
      " [ 1.  0.  2.]\n",
      " [ 1.  1.  1.]\n",
      " [ 1.  1.  1.]\n",
      " [ 1.  1.  0.]]\n",
      "TR\n",
      "[[ 0.  0.  0.]\n",
      " [ 0.  0.  0.]\n",
      " [ 1.  1.  1.]\n",
      " [ 3.  3.  3.]\n",
      " [ 4.  4.  0.]]\n",
      "TC\n",
      "[[ 0.  0.  4.]\n",
      " [ 0.  0.  4.]\n",
      " [ 0.  0.  4.]\n",
      " [ 0.  0.  4.]\n",
      " [ 0.  0.  0.]]\n",
      "A__D\n",
      "ABCD\n"
     ]
    },
    {
     "data": {
      "text/plain": [
       "1.0"
      ]
     },
     "execution_count": 3,
     "metadata": {},
     "output_type": "execute_result"
    }
   ],
   "source": [
    "seq1_encoded = '0.A,4.D'\n",
    "seq2_encoded = '0.A,1.B,2.C,1.D'\n",
    "\n",
    "gap = 0.5\n",
    "T = 0.25\n",
    "#scoring schema\n",
    "ss = scoring_schema()\n",
    "\n",
    "tnw(seq1_encoded,seq2_encoded,gap,T,ss)"
   ]
  },
  {
   "cell_type": "markdown",
   "metadata": {},
   "source": [
    "#### Effect of varying the gap penalty $g$\n",
    "\n",
    "The example below can be considered a good alignment. The letter 'A' from the two sequences match and the remaining ones do not match hence gaps were introduced."
   ]
  },
  {
   "cell_type": "code",
   "execution_count": 4,
   "metadata": {
    "collapsed": false
   },
   "outputs": [
    {
     "name": "stdout",
     "output_type": "stream",
     "text": [
      "score\n",
      "[[ 0.  -0.5 -1.  -1.5]\n",
      " [-0.5  1.   0.5  0. ]\n",
      " [-1.   0.5  0.  -0.5]\n",
      " [-1.5  0.  -0.5 -1. ]]\n",
      "traceback\n",
      "[[-1.  2.  2.  2.]\n",
      " [ 1.  0.  2.  2.]\n",
      " [ 1.  1.  1.  1.]\n",
      " [ 1.  1.  1.  1.]]\n",
      "TR\n",
      "[[ 0.  0.  0.  0.]\n",
      " [ 0.  0.  0.  0.]\n",
      " [ 1.  1.  1.  1.]\n",
      " [ 3.  3.  3.  3.]]\n",
      "TC\n",
      "[[ 0.  0.  1.  2.]\n",
      " [ 0.  0.  1.  2.]\n",
      " [ 0.  0.  1.  2.]\n",
      " [ 0.  0.  1.  2.]]\n",
      "ABC__\n",
      "A__DE\n"
     ]
    },
    {
     "data": {
      "text/plain": [
       "-1.0"
      ]
     },
     "execution_count": 4,
     "metadata": {},
     "output_type": "execute_result"
    }
   ],
   "source": [
    "seq1_encoded = '0.A,1.B,1.C'\n",
    "seq2_encoded = '0.A,1.D,2.E'\n",
    "\n",
    "gap = 0.5\n",
    "T = 0.25\n",
    "\n",
    "tnw(seq1_encoded,seq2_encoded,gap,T,ss)"
   ]
  },
  {
   "cell_type": "markdown",
   "metadata": {},
   "source": [
    "When we increase the gap penalty, 'letters' that do not match start to align."
   ]
  },
  {
   "cell_type": "code",
   "execution_count": 5,
   "metadata": {
    "collapsed": false
   },
   "outputs": [
    {
     "name": "stdout",
     "output_type": "stream",
     "text": [
      "score\n",
      "[[ 0.    -1.    -2.    -3.   ]\n",
      " [-1.     1.     0.    -1.   ]\n",
      " [-2.     0.    -0.1   -1.1  ]\n",
      " [-3.    -1.    -1.1   -1.325]]\n",
      "traceback\n",
      "[[-1.  2.  2.  2.]\n",
      " [ 1.  0.  2.  2.]\n",
      " [ 1.  1.  0.  2.]\n",
      " [ 1.  1.  1.  0.]]\n",
      "TR\n",
      "[[ 0.  0.  0.  0.]\n",
      " [ 0.  0.  0.  0.]\n",
      " [ 1.  1.  0.  0.]\n",
      " [ 3.  3.  2.  0.]]\n",
      "TC\n",
      "[[ 0.  0.  1.  2.]\n",
      " [ 0.  0.  1.  2.]\n",
      " [ 0.  0.  0.  1.]\n",
      " [ 0.  0.  0.  0.]]\n",
      "ABC\n",
      "ADE\n"
     ]
    },
    {
     "data": {
      "text/plain": [
       "-1.3250000000000002"
      ]
     },
     "execution_count": 5,
     "metadata": {},
     "output_type": "execute_result"
    }
   ],
   "source": [
    "gap = 1\n",
    "T = 0.25\n",
    "\n",
    "tnw(seq1_encoded,seq2_encoded,gap,T,ss)"
   ]
  },
  {
   "cell_type": "markdown",
   "metadata": {},
   "source": [
    "If we decrease the gap penalty and start to choose negative gap penaltys then we obtain total misalignment."
   ]
  },
  {
   "cell_type": "code",
   "execution_count": 6,
   "metadata": {
    "collapsed": false
   },
   "outputs": [
    {
     "name": "stdout",
     "output_type": "stream",
     "text": [
      "score\n",
      "[[-0.   0.5  1.   1.5]\n",
      " [ 0.5  1.   1.5  2. ]\n",
      " [ 1.   1.5  2.   2.5]\n",
      " [ 1.5  2.   2.5  3. ]]\n",
      "traceback\n",
      "[[-1.  2.  2.  2.]\n",
      " [ 1.  0.  1.  1.]\n",
      " [ 1.  1.  1.  1.]\n",
      " [ 1.  1.  1.  1.]]\n",
      "TR\n",
      "[[ 0.  0.  0.  0.]\n",
      " [ 0.  0.  0.  0.]\n",
      " [ 1.  1.  1.  1.]\n",
      " [ 3.  3.  3.  3.]]\n",
      "TC\n",
      "[[ 0.  0.  1.  2.]\n",
      " [ 0.  0.  1.  2.]\n",
      " [ 0.  0.  1.  2.]\n",
      " [ 0.  0.  1.  2.]]\n",
      "ABC___\n",
      "___ADE\n"
     ]
    },
    {
     "data": {
      "text/plain": [
       "3.0"
      ]
     },
     "execution_count": 6,
     "metadata": {},
     "output_type": "execute_result"
    }
   ],
   "source": [
    "gap = -0.5\n",
    "T = 0.25\n",
    "\n",
    "tnw(seq1_encoded,seq2_encoded,gap,T,ss)"
   ]
  },
  {
   "cell_type": "markdown",
   "metadata": {},
   "source": [
    "#### Effect of varying the temporal penalty constant $T_p$"
   ]
  },
  {
   "cell_type": "markdown",
   "metadata": {},
   "source": [
    "The temporal penalty constant $T_p$ imposes a maximum penalty on $S(x_i,y_j)$. (equations \\ref{eq:temporal_penalty} and \\ref{eq:tnw}). When using small values for $T_p$ the alignments that we obtain are generally the same the we would obtain if we did not use temporal distances, although the scores computed in each case will be different. "
   ]
  },
  {
   "cell_type": "code",
   "execution_count": 7,
   "metadata": {
    "collapsed": false
   },
   "outputs": [
    {
     "name": "stdout",
     "output_type": "stream",
     "text": [
      "score\n",
      "[[ 0.         -0.5        -1.         -1.5       ]\n",
      " [-0.5         1.          0.5         0.        ]\n",
      " [-1.          0.5         1.95833333  1.45833333]\n",
      " [-1.5         0.          1.45833333  2.75833333]]\n",
      "traceback\n",
      "[[-1.  2.  2.  2.]\n",
      " [ 1.  0.  2.  2.]\n",
      " [ 1.  1.  0.  2.]\n",
      " [ 1.  1.  1.  0.]]\n",
      "TR\n",
      "[[   0.    0.    0.    0.]\n",
      " [   0.    0.    0.    0.]\n",
      " [ 120.  120.    0.    0.]\n",
      " [ 140.  140.   20.    0.]]\n",
      "TC\n",
      "[[   0.    0.  100.  200.]\n",
      " [   0.    0.  100.  200.]\n",
      " [   0.    0.    0.  100.]\n",
      " [   0.    0.    0.    0.]]\n",
      "ABC\n",
      "ABC\n"
     ]
    },
    {
     "data": {
      "text/plain": [
       "2.7583333333333329"
      ]
     },
     "execution_count": 7,
     "metadata": {},
     "output_type": "execute_result"
    }
   ],
   "source": [
    "seq1_encoded = '0.A,100.B,100.C'\n",
    "seq2_encoded = '0.A,120.B,20.C'\n",
    "\n",
    "gap = 0.5\n",
    "T = 0.25\n",
    "\n",
    "tnw(seq1_encoded,seq2_encoded,gap,T,ss)"
   ]
  },
  {
   "cell_type": "markdown",
   "metadata": {},
   "source": [
    "By increasing $T_p$ we want to show how much the score changes despite the alignment being the same."
   ]
  },
  {
   "cell_type": "code",
   "execution_count": 8,
   "metadata": {
    "collapsed": false
   },
   "outputs": [
    {
     "name": "stdout",
     "output_type": "stream",
     "text": [
      "score\n",
      "[[ 0.   -0.5  -1.   -1.5 ]\n",
      " [-0.5   1.    0.5   0.  ]\n",
      " [-1.    0.5   1.75  1.25]\n",
      " [-1.5   0.    1.25  1.55]]\n",
      "traceback\n",
      "[[-1.  2.  2.  2.]\n",
      " [ 1.  0.  2.  2.]\n",
      " [ 1.  1.  0.  2.]\n",
      " [ 1.  1.  1.  0.]]\n",
      "TR\n",
      "[[   0.    0.    0.    0.]\n",
      " [   0.    0.    0.    0.]\n",
      " [ 120.  120.    0.    0.]\n",
      " [ 140.  140.   20.    0.]]\n",
      "TC\n",
      "[[   0.    0.  100.  200.]\n",
      " [   0.    0.  100.  200.]\n",
      " [   0.    0.    0.  100.]\n",
      " [   0.    0.    0.    0.]]\n",
      "ABC\n",
      "ABC\n"
     ]
    },
    {
     "data": {
      "text/plain": [
       "1.5499999999999998"
      ]
     },
     "execution_count": 8,
     "metadata": {},
     "output_type": "execute_result"
    }
   ],
   "source": [
    "gap = 0.5\n",
    "T = 1.5\n",
    "\n",
    "tnw(seq1_encoded,seq2_encoded,gap,T,ss)"
   ]
  },
  {
   "cell_type": "markdown",
   "metadata": {},
   "source": [
    "Increasing $T_p$ too much can lead to misalignments as well."
   ]
  },
  {
   "cell_type": "code",
   "execution_count": 9,
   "metadata": {
    "collapsed": false,
    "scrolled": true
   },
   "outputs": [
    {
     "name": "stdout",
     "output_type": "stream",
     "text": [
      "score\n",
      "[[ 0.         -0.5        -1.         -1.5       ]\n",
      " [-0.5         1.          0.5         0.        ]\n",
      " [-1.          0.5         0.33333333 -0.16666667]\n",
      " [-1.5         0.         -0.16666667 -0.66666667]]\n",
      "traceback\n",
      "[[-1.  2.  2.  2.]\n",
      " [ 1.  0.  2.  2.]\n",
      " [ 1.  1.  0.  2.]\n",
      " [ 1.  1.  1.  1.]]\n",
      "TR\n",
      "[[   0.    0.    0.    0.]\n",
      " [   0.    0.    0.    0.]\n",
      " [ 120.  120.    0.    0.]\n",
      " [ 140.  140.   20.   20.]]\n",
      "TC\n",
      "[[   0.    0.  100.  200.]\n",
      " [   0.    0.  100.  200.]\n",
      " [   0.    0.    0.  100.]\n",
      " [   0.    0.    0.  100.]]\n",
      "ABC_\n",
      "AB_C\n"
     ]
    },
    {
     "data": {
      "text/plain": [
       "-0.66666666666666652"
      ]
     },
     "execution_count": 9,
     "metadata": {},
     "output_type": "execute_result"
    }
   ],
   "source": [
    "gap = 0.5\n",
    "T = 10\n",
    "\n",
    "tnw(seq1_encoded,seq2_encoded,gap,T,ss)"
   ]
  },
  {
   "cell_type": "markdown",
   "metadata": {},
   "source": [
    "What we can conclude by tuning some of the parameters of the TNW algorithm that the alignments that we obtained are completely dependent on the parameters that we choose. The user has to choose the parameters depending on what type of alignments he wants and how much emphasys does he want to put on temporal distances."
   ]
  },
  {
   "cell_type": "markdown",
   "metadata": {},
   "source": [
    "##  Agglomerative Hierarchical Clustering\n",
    "\n",
    "Agglomerative Hierarchical Clustering starts with every object (in this work patients) as a single cluster. Then, in each succesive iteration, it merges the two closest clusters until all objects fall into one cluster.\n",
    "\n",
    "The results of hierarchical clustering are usually presented in a dendrogram, allowing to visualize a tree showing the order and distances of merges during the hierarchical clustering. The main steps of this approach are:\n",
    "\n",
    "> 1. Start with a collection $C$ of $n$ single clusters, each cluster $c_i$ contains one object $x_i$.\n",
    "2. Repeat until one cluster is left:\n",
    "    <br><br>\n",
    "    1. find a pair of clusters that are closest to each other: $ \\displaystyle\\min_{i,j} D(c_i,c_j)$.\n",
    "    2. merge the cluster $c_i$ with $c_j$ to form a new cluster $c_{i+j}$\n",
    "    3. remove $c_i$ and $c_j$ from the collection C and add $c_{i,j}$ to C\n",
    "    \n",
    "This approach requires a distance metric over clusters that measure the cluster distance $D(c_i,c_j)$. In this work 5 different metrics were tested.\n",
    "\n",
    "<!---\n",
    "\n",
    "\n",
    "\\begin{minipage}{.5\\textwidth}\n",
    "  \\centering\n",
    "  \\textbf{Centroids:}\n",
    "\\begin{equation*}\n",
    "D(c_1,c_2) = D\\left(\\left(\\frac{1}{|c_1|} \\sum_{x \\in c_1} x\\right),\\left(\\frac{1}{|c_2|} \\sum_{x \\in c_2} x\\right)\\right)\n",
    "\\end{equation*}\n",
    "\\end{minipage}%\n",
    "\\begin{minipage}{.5\\textwidth}\n",
    "  \\centering\n",
    "  \\includegraphics[width=0.5\\columnwidth]{centroids.png}\n",
    "\\end{minipage}\n",
    "-->\n",
    "  \n",
    "<table style=\"width:100%\" cellspacing=\"0\" cellpadding=\"0\">\n",
    "  <tr>\n",
    "    <th> Single </th>\n",
    "    <th>\\begin{equation*}\n",
    "D(c_1,c_2) = \\displaystyle\\min_{x_1 \\in c_1, x_2 \\in c_2} D(x_1,x_2)\n",
    "\\end{equation*}</th> \n",
    "    <th><img src=\"single.png\" alt=\"Drawing\" style=\"width: 250px;\"/></th>\n",
    "  </tr>\n",
    "  \n",
    "    <tr>\n",
    "    <th> Complete </th>\n",
    "    <th>\\begin{equation*}\n",
    "D(c_1,c_2) = \\displaystyle\\max_{x_1 \\in c_1, x_2 \\in c_2} D(x_1,x_2)\n",
    "\\end{equation*}</th> \n",
    "    <th><img src=\"complete.png\" alt=\"Drawing\" style=\"width: 250px;\"/></th>\n",
    "  </tr>\n",
    "  \n",
    "    <tr>\n",
    "    <th> Average </th>\n",
    "    <th>\\begin{equation*}\n",
    "D(c_1,c_2) = \\frac{1}{|c_1|} \\frac{1}{|c_2|} \\sum_{x_1 \\in c_2} \\sum_{x_2 \\in c_2} D(x_1,x_2)\n",
    "\\end{equation*}</th> \n",
    "    <th><img src=\"average.png\" alt=\"Drawing\" style=\"width: 250px;\"/></th>\n",
    "  </tr>\n",
    "  \n",
    "    <tr>\n",
    "    <th> Centroids </th>\n",
    "    <th>\\begin{equation*}\n",
    "D(c_1,c_2) = D\\left(\\left(\\frac{1}{|c_1|} \\sum_{x \\in c_1} x\\right),\\left(\\frac{1}{|c_2|} \\sum_{x \\in c_2} x\\right)\\right)\n",
    "\\end{equation*}</th> \n",
    "    <th><img src=\"centroids.png\" alt=\"Drawing\" style=\"width: 250px;\"/></th>\n",
    "  </tr>\n",
    "  \n",
    "     <tr>\n",
    "    <th> Ward </th>\n",
    "    <th>\\begin{equation*}\n",
    "            D(c_1,c_2) = \\sum_{x \\in c_1} (x-r_1)^2 + \\sum_{x \\in c_2} (x-r_2)^2 - \\sum_{x \\in c_{12}} (x-r_{12})^2 \\\\\n",
    "            r_1 : \\text{centroid of $c_1$} \\\\ \n",
    "            r_2 : \\text{centroid of $c_2$} \\\\\n",
    "            r_{12} : \\text{centroid of $c_{12}$}\n",
    "        \\end{equation*} \n",
    "    </th> \n",
    "    <th>\n",
    "    </th>\n",
    "  </tr>\n",
    "  \n",
    "</table>\n"
   ]
  },
  {
   "cell_type": "markdown",
   "metadata": {},
   "source": [
    "## Experiments\n",
    "\n",
    "The proposed approach consists on first taking the raw data from Reuma database and create temporal sequences. Next we perform sequence alignment between all pairs of patients. After the alignment step we obtain a similarity matrix that has to be transformed into a dissimilarity matrix to be used on Hierarchical Clustering. Once the clustering is performed an analysis has to be made concerning the decision on the number of clusters. Finnally a clinical interpretation has to be made.\n",
    "\n",
    "<img src=\"approach.png\"/>\n",
    "\n",
    "### Experiment 1 - Biological therapy sequences\n",
    "\n"
   ]
  },
  {
   "cell_type": "code",
   "execution_count": 10,
   "metadata": {
    "collapsed": true
   },
   "outputs": [],
   "source": [
    "from matplotlib import pyplot as plt\n",
    "from scipy.cluster.hierarchy import dendrogram, cophenet\n",
    "from fastcluster import linkage\n",
    "import pandas as pd\n",
    "from encoder_sequence import encode"
   ]
  },
  {
   "cell_type": "markdown",
   "metadata": {},
   "source": [
    "#### Raw data"
   ]
  },
  {
   "cell_type": "code",
   "execution_count": 11,
   "metadata": {
    "collapsed": false
   },
   "outputs": [
    {
     "data": {
      "text/html": [
       "<div>\n",
       "<style scoped>\n",
       "    .dataframe tbody tr th:only-of-type {\n",
       "        vertical-align: middle;\n",
       "    }\n",
       "\n",
       "    .dataframe tbody tr th {\n",
       "        vertical-align: top;\n",
       "    }\n",
       "\n",
       "    .dataframe thead th {\n",
       "        text-align: right;\n",
       "    }\n",
       "</style>\n",
       "<table border=\"1\" class=\"dataframe\">\n",
       "  <thead>\n",
       "    <tr style=\"text-align: right;\">\n",
       "      <th></th>\n",
       "      <th>id_doente</th>\n",
       "      <th>n_bio_corrente</th>\n",
       "      <th>n_dias_duracao</th>\n",
       "    </tr>\n",
       "  </thead>\n",
       "  <tbody>\n",
       "    <tr>\n",
       "      <th>0</th>\n",
       "      <td>33496</td>\n",
       "      <td>2</td>\n",
       "      <td>156.0</td>\n",
       "    </tr>\n",
       "    <tr>\n",
       "      <th>1</th>\n",
       "      <td>33496</td>\n",
       "      <td>2</td>\n",
       "      <td>156.0</td>\n",
       "    </tr>\n",
       "    <tr>\n",
       "      <th>2</th>\n",
       "      <td>33496</td>\n",
       "      <td>2</td>\n",
       "      <td>156.0</td>\n",
       "    </tr>\n",
       "    <tr>\n",
       "      <th>3</th>\n",
       "      <td>33496</td>\n",
       "      <td>2</td>\n",
       "      <td>156.0</td>\n",
       "    </tr>\n",
       "    <tr>\n",
       "      <th>4</th>\n",
       "      <td>33496</td>\n",
       "      <td>3</td>\n",
       "      <td>314.0</td>\n",
       "    </tr>\n",
       "    <tr>\n",
       "      <th>5</th>\n",
       "      <td>33496</td>\n",
       "      <td>3</td>\n",
       "      <td>314.0</td>\n",
       "    </tr>\n",
       "    <tr>\n",
       "      <th>6</th>\n",
       "      <td>33496</td>\n",
       "      <td>3</td>\n",
       "      <td>314.0</td>\n",
       "    </tr>\n",
       "    <tr>\n",
       "      <th>7</th>\n",
       "      <td>33496</td>\n",
       "      <td>3</td>\n",
       "      <td>314.0</td>\n",
       "    </tr>\n",
       "    <tr>\n",
       "      <th>8</th>\n",
       "      <td>33496</td>\n",
       "      <td>3</td>\n",
       "      <td>314.0</td>\n",
       "    </tr>\n",
       "    <tr>\n",
       "      <th>9</th>\n",
       "      <td>33496</td>\n",
       "      <td>4</td>\n",
       "      <td>1696.0</td>\n",
       "    </tr>\n",
       "  </tbody>\n",
       "</table>\n",
       "</div>"
      ],
      "text/plain": [
       "   id_doente  n_bio_corrente  n_dias_duracao\n",
       "0      33496               2           156.0\n",
       "1      33496               2           156.0\n",
       "2      33496               2           156.0\n",
       "3      33496               2           156.0\n",
       "4      33496               3           314.0\n",
       "5      33496               3           314.0\n",
       "6      33496               3           314.0\n",
       "7      33496               3           314.0\n",
       "8      33496               3           314.0\n",
       "9      33496               4          1696.0"
      ]
     },
     "execution_count": 11,
     "metadata": {},
     "output_type": "execute_result"
    }
   ],
   "source": [
    "#read .csv file\n",
    "df = pd.read_csv('bio_corrente_sequence.csv',sep = ';')\n",
    "df.head(10)"
   ]
  },
  {
   "cell_type": "markdown",
   "metadata": {},
   "source": [
    "#### Create the temporal sequences"
   ]
  },
  {
   "cell_type": "code",
   "execution_count": 12,
   "metadata": {
    "collapsed": false
   },
   "outputs": [
    {
     "data": {
      "text/html": [
       "<div>\n",
       "<style scoped>\n",
       "    .dataframe tbody tr th:only-of-type {\n",
       "        vertical-align: middle;\n",
       "    }\n",
       "\n",
       "    .dataframe tbody tr th {\n",
       "        vertical-align: top;\n",
       "    }\n",
       "\n",
       "    .dataframe thead th {\n",
       "        text-align: right;\n",
       "    }\n",
       "</style>\n",
       "<table border=\"1\" class=\"dataframe\">\n",
       "  <thead>\n",
       "    <tr style=\"text-align: right;\">\n",
       "      <th></th>\n",
       "      <th>id_doente</th>\n",
       "      <th>aux_encode</th>\n",
       "    </tr>\n",
       "  </thead>\n",
       "  <tbody>\n",
       "    <tr>\n",
       "      <th>0</th>\n",
       "      <td>33496</td>\n",
       "      <td>0.B,156.C,314.D,1696.Z</td>\n",
       "    </tr>\n",
       "    <tr>\n",
       "      <th>1</th>\n",
       "      <td>33499</td>\n",
       "      <td>0.B,148.Z</td>\n",
       "    </tr>\n",
       "    <tr>\n",
       "      <th>2</th>\n",
       "      <td>33502</td>\n",
       "      <td>0.A,120.B,2187.Z</td>\n",
       "    </tr>\n",
       "    <tr>\n",
       "      <th>3</th>\n",
       "      <td>33505</td>\n",
       "      <td>0.A,873.B,255.C,1145.Z</td>\n",
       "    </tr>\n",
       "    <tr>\n",
       "      <th>4</th>\n",
       "      <td>33508</td>\n",
       "      <td>0.A,358.B,420.C,963.D,239.Z</td>\n",
       "    </tr>\n",
       "  </tbody>\n",
       "</table>\n",
       "</div>"
      ],
      "text/plain": [
       "   id_doente                   aux_encode\n",
       "0      33496       0.B,156.C,314.D,1696.Z\n",
       "1      33499                    0.B,148.Z\n",
       "2      33502             0.A,120.B,2187.Z\n",
       "3      33505       0.A,873.B,255.C,1145.Z\n",
       "4      33508  0.A,358.B,420.C,963.D,239.Z"
      ]
     },
     "execution_count": 12,
     "metadata": {},
     "output_type": "execute_result"
    }
   ],
   "source": [
    "#get the encoded sequences\n",
    "df_encoded = encode(df)\n",
    "df_encoded.head(5)"
   ]
  },
  {
   "cell_type": "markdown",
   "metadata": {},
   "source": [
    "#### All-Pair Sequence Alignment"
   ]
  },
  {
   "cell_type": "code",
   "execution_count": 13,
   "metadata": {
    "collapsed": true
   },
   "outputs": [],
   "source": [
    "# main algorithm\n",
    "# normalized = 1 - scores are normalized to the strings that are aligned\n",
    "# normalized = 0 - scores are not normalized\n",
    "\n",
    "def main_algorithm(df_encoded,gap,T,ss,normalized):\n",
    "    \n",
    "    #get all the possible combinations between the patients to perform alignment\n",
    "    patient_comb = list(itertools.combinations(df_encoded['id_doente'],2))\n",
    "    \n",
    "    #set id_doente as index column it will be helpful for later manipulation of sequences\n",
    "    df_encoded.set_index('id_doente',inplace=True)\n",
    "    \n",
    "    results = pd.DataFrame(patient_comb,columns = ['patient1','patient2'])\n",
    "    list_sequences_aligned = []\n",
    "    list_scores = []\n",
    "    list_sequences = []\n",
    "    \n",
    "    #analyze every possible combination between patints\n",
    "    for patient_pair in patient_comb:\n",
    "        #get the sequences to be aligned\n",
    "        seq1_encoded = df_encoded.loc[patient_pair[0],'aux_encode']\n",
    "        seq2_encoded = df_encoded.loc[patient_pair[1],'aux_encode']\n",
    "    \n",
    "        list_sequences.append([seq1_encoded,seq2_encoded])\n",
    "         #split the sequences\n",
    "        aux1 = seq1_encoded.split(\",\")\n",
    "        aux2 = seq2_encoded.split(\",\")\n",
    "        \n",
    "        seq1 = []\n",
    "        seq2 = []\n",
    "        \n",
    "        for seq in aux1:\n",
    "            seq1.append(seq.split(\".\"))\n",
    "    \n",
    "        for seq in aux2:\n",
    "            seq2.append(seq.split(\".\"))\n",
    "            \n",
    "        cols=len(seq1)+1\n",
    "        rows=len(seq2)+1\n",
    "                \n",
    "        score = score_initialisation(rows,cols,gap)\n",
    "        traceback = traceback_initialisation(rows,cols)\n",
    "        TR = TR_initialisation(rows,cols,traceback,seq2)\n",
    "        TC = TC_initialisation(rows,cols,traceback,seq1)\n",
    "        \n",
    "        calculate_scores(score,traceback,rows,cols,seq1,seq2,TR,TC,ss,gap,T)\n",
    "        sequences_aligned = alignment(traceback,rows,cols,seq1,seq2)\n",
    "        \n",
    "        list_sequences_aligned.append(sequences_aligned)\n",
    "        \n",
    "        if(normalized == 1):\n",
    "            #normalization of scores\n",
    "            list_scores.append((score[rows-1][cols-1])/sequences_aligned[2])\n",
    "        else:\n",
    "            list_scores.append(score[rows-1][cols-1])\n",
    "    \n",
    "    results['sequences'] = pd.Series(list_sequences)\n",
    "    results['sequences_aligned'] = pd.Series(list_sequences_aligned)\n",
    "    results['score'] = pd.Series(list_scores)\n",
    "    return results"
   ]
  },
  {
   "cell_type": "code",
   "execution_count": 14,
   "metadata": {
    "collapsed": false
   },
   "outputs": [
    {
     "data": {
      "text/html": [
       "<div>\n",
       "<style scoped>\n",
       "    .dataframe tbody tr th:only-of-type {\n",
       "        vertical-align: middle;\n",
       "    }\n",
       "\n",
       "    .dataframe tbody tr th {\n",
       "        vertical-align: top;\n",
       "    }\n",
       "\n",
       "    .dataframe thead th {\n",
       "        text-align: right;\n",
       "    }\n",
       "</style>\n",
       "<table border=\"1\" class=\"dataframe\">\n",
       "  <thead>\n",
       "    <tr style=\"text-align: right;\">\n",
       "      <th></th>\n",
       "      <th>patient1</th>\n",
       "      <th>patient2</th>\n",
       "      <th>sequences</th>\n",
       "      <th>sequences_aligned</th>\n",
       "      <th>score</th>\n",
       "    </tr>\n",
       "  </thead>\n",
       "  <tbody>\n",
       "    <tr>\n",
       "      <th>0</th>\n",
       "      <td>33496</td>\n",
       "      <td>33499</td>\n",
       "      <td>[0.B,156.C,314.D,1696.Z, 0.B,148.Z]</td>\n",
       "      <td>[BCDZ, B__Z, 2]</td>\n",
       "      <td>0.767082</td>\n",
       "    </tr>\n",
       "    <tr>\n",
       "      <th>1</th>\n",
       "      <td>33496</td>\n",
       "      <td>33502</td>\n",
       "      <td>[0.B,156.C,314.D,1696.Z, 0.A,120.B,2187.Z]</td>\n",
       "      <td>[_BCDZ, AB__Z, 2]</td>\n",
       "      <td>0.247599</td>\n",
       "    </tr>\n",
       "    <tr>\n",
       "      <th>2</th>\n",
       "      <td>33496</td>\n",
       "      <td>33505</td>\n",
       "      <td>[0.B,156.C,314.D,1696.Z, 0.A,873.B,255.C,1145.Z]</td>\n",
       "      <td>[_BCDZ, ABC_Z, 3]</td>\n",
       "      <td>1.545354</td>\n",
       "    </tr>\n",
       "    <tr>\n",
       "      <th>3</th>\n",
       "      <td>33496</td>\n",
       "      <td>33508</td>\n",
       "      <td>[0.B,156.C,314.D,1696.Z, 0.A,358.B,420.C,963.D...</td>\n",
       "      <td>[_BCDZ, ABCDZ, 4]</td>\n",
       "      <td>2.709603</td>\n",
       "    </tr>\n",
       "    <tr>\n",
       "      <th>4</th>\n",
       "      <td>33496</td>\n",
       "      <td>33511</td>\n",
       "      <td>[0.B,156.C,314.D,1696.Z, 0.A,2192.Z]</td>\n",
       "      <td>[BCD_Z, ___AZ, 1]</td>\n",
       "      <td>-1.002965</td>\n",
       "    </tr>\n",
       "  </tbody>\n",
       "</table>\n",
       "</div>"
      ],
      "text/plain": [
       "   patient1  patient2                                          sequences  \\\n",
       "0     33496     33499                [0.B,156.C,314.D,1696.Z, 0.B,148.Z]   \n",
       "1     33496     33502         [0.B,156.C,314.D,1696.Z, 0.A,120.B,2187.Z]   \n",
       "2     33496     33505   [0.B,156.C,314.D,1696.Z, 0.A,873.B,255.C,1145.Z]   \n",
       "3     33496     33508  [0.B,156.C,314.D,1696.Z, 0.A,358.B,420.C,963.D...   \n",
       "4     33496     33511               [0.B,156.C,314.D,1696.Z, 0.A,2192.Z]   \n",
       "\n",
       "   sequences_aligned     score  \n",
       "0    [BCDZ, B__Z, 2]  0.767082  \n",
       "1  [_BCDZ, AB__Z, 2]  0.247599  \n",
       "2  [_BCDZ, ABC_Z, 3]  1.545354  \n",
       "3  [_BCDZ, ABCDZ, 4]  2.709603  \n",
       "4  [BCD_Z, ___AZ, 1] -1.002965  "
      ]
     },
     "execution_count": 14,
     "metadata": {},
     "output_type": "execute_result"
    }
   ],
   "source": [
    "gap = 0.5\n",
    "T = 0.25\n",
    "\n",
    "results = main_algorithm(df_encoded,gap,T,ss,0)\n",
    "results.head(5)"
   ]
  },
  {
   "cell_type": "markdown",
   "metadata": {},
   "source": [
    "#### Hierarchical Clustering"
   ]
  },
  {
   "cell_type": "code",
   "execution_count": 15,
   "metadata": {
    "collapsed": false
   },
   "outputs": [],
   "source": [
    "#Convert the score matrix into a distance matrix by making all values positives\n",
    "results['score'] = 0 - results['score']\n",
    "results['score'] = results['score'] + abs(results['score'][results['score'].idxmin()])\n",
    "#results['score'] = 1/(results['score'])\n",
    "#results.loc[results['score'] == float('inf'), 'score'] = 100\n"
   ]
  },
  {
   "cell_type": "code",
   "execution_count": 16,
   "metadata": {
    "collapsed": false
   },
   "outputs": [
    {
     "data": {
      "image/png": "[encoded data removed]",
      "text/plain": [
       "<matplotlib.figure.Figure at 0x27ca587fc88>"
      ]
     },
     "metadata": {},
     "output_type": "display_data"
    },
    {
     "name": "stdout",
     "output_type": "stream",
     "text": [
      "Cophenetic Correlation Coefficient: 0.812794532195\n"
     ]
    }
   ],
   "source": [
    "Z = linkage(results['score'], 'complete')\n",
    "\n",
    "plt.figure(figsize=(25, 10))\n",
    "plt.title('Hierarchical Clustering Dendrogram')\n",
    "plt.xlabel('sample index')\n",
    "plt.ylabel('distance')\n",
    "dendrogram(\n",
    "        Z,\n",
    "        #truncate_mode = 'lastp',\n",
    "        #p=6,\n",
    "        leaf_rotation=90.,  # rotates the x axis labels\n",
    "        leaf_font_size=8.,  # font size for the x axis labels\n",
    "        )\n",
    "plt.show()\n",
    "\n",
    "c, coph_dists = cophenet(Z, results['score'])\n",
    "\n",
    "print('Cophenetic Correlation Coefficient:', c)"
   ]
  },
  {
   "cell_type": "markdown",
   "metadata": {},
   "source": [
    "### Experiment 2 - DAS28 Sequences \n",
    "\n",
    "#### Raw data"
   ]
  },
  {
   "cell_type": "code",
   "execution_count": 17,
   "metadata": {
    "collapsed": false
   },
   "outputs": [
    {
     "data": {
      "text/html": [
       "<div>\n",
       "<style scoped>\n",
       "    .dataframe tbody tr th:only-of-type {\n",
       "        vertical-align: middle;\n",
       "    }\n",
       "\n",
       "    .dataframe tbody tr th {\n",
       "        vertical-align: top;\n",
       "    }\n",
       "\n",
       "    .dataframe thead th {\n",
       "        text-align: right;\n",
       "    }\n",
       "</style>\n",
       "<table border=\"1\" class=\"dataframe\">\n",
       "  <thead>\n",
       "    <tr style=\"text-align: right;\">\n",
       "      <th></th>\n",
       "      <th>id_doente</th>\n",
       "      <th>dt_consulta</th>\n",
       "      <th>das28_4v</th>\n",
       "    </tr>\n",
       "  </thead>\n",
       "  <tbody>\n",
       "    <tr>\n",
       "      <th>0</th>\n",
       "      <td>33496</td>\n",
       "      <td>03/03/2008</td>\n",
       "      <td>7.984</td>\n",
       "    </tr>\n",
       "    <tr>\n",
       "      <th>1</th>\n",
       "      <td>33496</td>\n",
       "      <td>17/03/2008</td>\n",
       "      <td>5.748</td>\n",
       "    </tr>\n",
       "    <tr>\n",
       "      <th>2</th>\n",
       "      <td>33496</td>\n",
       "      <td>21/04/2008</td>\n",
       "      <td>3.535</td>\n",
       "    </tr>\n",
       "    <tr>\n",
       "      <th>3</th>\n",
       "      <td>33496</td>\n",
       "      <td>09/06/2008</td>\n",
       "      <td>NaN</td>\n",
       "    </tr>\n",
       "    <tr>\n",
       "      <th>4</th>\n",
       "      <td>33496</td>\n",
       "      <td>05/11/2008</td>\n",
       "      <td>NaN</td>\n",
       "    </tr>\n",
       "    <tr>\n",
       "      <th>5</th>\n",
       "      <td>33496</td>\n",
       "      <td>04/12/2008</td>\n",
       "      <td>4.347</td>\n",
       "    </tr>\n",
       "    <tr>\n",
       "      <th>6</th>\n",
       "      <td>33496</td>\n",
       "      <td>04/03/2009</td>\n",
       "      <td>5.467</td>\n",
       "    </tr>\n",
       "    <tr>\n",
       "      <th>7</th>\n",
       "      <td>33496</td>\n",
       "      <td>03/06/2009</td>\n",
       "      <td>3.155</td>\n",
       "    </tr>\n",
       "    <tr>\n",
       "      <th>8</th>\n",
       "      <td>33496</td>\n",
       "      <td>04/09/2009</td>\n",
       "      <td>6.115</td>\n",
       "    </tr>\n",
       "    <tr>\n",
       "      <th>9</th>\n",
       "      <td>33496</td>\n",
       "      <td>28/10/2009</td>\n",
       "      <td>7.174</td>\n",
       "    </tr>\n",
       "  </tbody>\n",
       "</table>\n",
       "</div>"
      ],
      "text/plain": [
       "   id_doente dt_consulta  das28_4v\n",
       "0      33496  03/03/2008     7.984\n",
       "1      33496  17/03/2008     5.748\n",
       "2      33496  21/04/2008     3.535\n",
       "3      33496  09/06/2008       NaN\n",
       "4      33496  05/11/2008       NaN\n",
       "5      33496  04/12/2008     4.347\n",
       "6      33496  04/03/2009     5.467\n",
       "7      33496  03/06/2009     3.155\n",
       "8      33496  04/09/2009     6.115\n",
       "9      33496  28/10/2009     7.174"
      ]
     },
     "execution_count": 17,
     "metadata": {},
     "output_type": "execute_result"
    }
   ],
   "source": [
    "#read .csv file\n",
    "df = pd.read_csv('das28_sequence.csv',sep = ';',decimal=',')\n",
    "df.head(10)"
   ]
  },
  {
   "cell_type": "markdown",
   "metadata": {},
   "source": [
    "#### Create the temporal sequences"
   ]
  },
  {
   "cell_type": "code",
   "execution_count": 18,
   "metadata": {
    "collapsed": false
   },
   "outputs": [
    {
     "data": {
      "text/html": [
       "<div>\n",
       "<style scoped>\n",
       "    .dataframe tbody tr th:only-of-type {\n",
       "        vertical-align: middle;\n",
       "    }\n",
       "\n",
       "    .dataframe tbody tr th {\n",
       "        vertical-align: top;\n",
       "    }\n",
       "\n",
       "    .dataframe thead th {\n",
       "        text-align: right;\n",
       "    }\n",
       "</style>\n",
       "<table border=\"1\" class=\"dataframe\">\n",
       "  <thead>\n",
       "    <tr style=\"text-align: right;\">\n",
       "      <th></th>\n",
       "      <th>id_doente</th>\n",
       "      <th>aux_encode</th>\n",
       "    </tr>\n",
       "  </thead>\n",
       "  <tbody>\n",
       "    <tr>\n",
       "      <th>0</th>\n",
       "      <td>33496</td>\n",
       "      <td>0.D,14.D,35.C,227.C,90.D,91.B,93.D,54.D,180.A,28.C,14.C,31.C,63.C,98.C,20.C,36.B</td>\n",
       "    </tr>\n",
       "    <tr>\n",
       "      <th>1</th>\n",
       "      <td>33499</td>\n",
       "      <td>0.D,14.C,134.D,921.C</td>\n",
       "    </tr>\n",
       "    <tr>\n",
       "      <th>2</th>\n",
       "      <td>33502</td>\n",
       "      <td>0.C,17.D,13.C,29.B,77.B,89.C,216.D,63.D,95.C,91.C,110.C,84.C,84.C,91.B,119.C,28.C,77.C,98.B,98.A,70.C,91.C,91.C,91.C,91.C,91.B,91.C,91.B,105.B,98.B</td>\n",
       "    </tr>\n",
       "    <tr>\n",
       "      <th>3</th>\n",
       "      <td>33505</td>\n",
       "      <td>0.D,13.C,29.A,55.D,246.C,223.D,30.D,31.C,296.C,71.D,21.D,14.D,21.D,21.D,21.D,28.D,49.D,81.D,31.D,35.D,35.D,34.C,33.D,49.C,35.C,70.C,65.C,112.C,34.C,148.C,37.C,41.C,64.C,35.C,96.A,44.C,35.C,35.C,38.C</td>\n",
       "    </tr>\n",
       "    <tr>\n",
       "      <th>4</th>\n",
       "      <td>33508</td>\n",
       "      <td>0.D,252.D,181.D,84.D,402.D,244.D,173.D,182.C,219.D,247.D,126.C,108.B,87.C,195.A,98.A,91.B,182.D,33.D,15.C,15.C,35.A,91.C,64.D,21.D,32.C,42.C,182.C,24.D,14.C,46.B,49.C,91.D,51.D,14.C,35.A,56.B,92.D,13.C,47.A,114.C,42.A,141.C,14.D,125.D,50.D</td>\n",
       "    </tr>\n",
       "  </tbody>\n",
       "</table>\n",
       "</div>"
      ],
      "text/plain": [
       "   id_doente  \\\n",
       "0  33496       \n",
       "1  33499       \n",
       "2  33502       \n",
       "3  33505       \n",
       "4  33508       \n",
       "\n",
       "                                                                                                                                                                                                                                        aux_encode  \n",
       "0  0.D,14.D,35.C,227.C,90.D,91.B,93.D,54.D,180.A,28.C,14.C,31.C,63.C,98.C,20.C,36.B                                                                                                                                                                 \n",
       "1  0.D,14.C,134.D,921.C                                                                                                                                                                                                                             \n",
       "2  0.C,17.D,13.C,29.B,77.B,89.C,216.D,63.D,95.C,91.C,110.C,84.C,84.C,91.B,119.C,28.C,77.C,98.B,98.A,70.C,91.C,91.C,91.C,91.C,91.B,91.C,91.B,105.B,98.B                                                                                              \n",
       "3  0.D,13.C,29.A,55.D,246.C,223.D,30.D,31.C,296.C,71.D,21.D,14.D,21.D,21.D,21.D,28.D,49.D,81.D,31.D,35.D,35.D,34.C,33.D,49.C,35.C,70.C,65.C,112.C,34.C,148.C,37.C,41.C,64.C,35.C,96.A,44.C,35.C,35.C,38.C                                           \n",
       "4  0.D,252.D,181.D,84.D,402.D,244.D,173.D,182.C,219.D,247.D,126.C,108.B,87.C,195.A,98.A,91.B,182.D,33.D,15.C,15.C,35.A,91.C,64.D,21.D,32.C,42.C,182.C,24.D,14.C,46.B,49.C,91.D,51.D,14.C,35.A,56.B,92.D,13.C,47.A,114.C,42.A,141.C,14.D,125.D,50.D  "
      ]
     },
     "execution_count": 18,
     "metadata": {},
     "output_type": "execute_result"
    }
   ],
   "source": [
    "from encoder_sequence_das import encode\n",
    "pd.set_option('display.max_colwidth', -1)\n",
    "\n",
    "#get the encoded sequences\n",
    "df_encoded = encode(df)\n",
    "df_encoded.head(5)"
   ]
  },
  {
   "cell_type": "markdown",
   "metadata": {},
   "source": [
    "#### All-Pair Sequence Alignment"
   ]
  },
  {
   "cell_type": "code",
   "execution_count": 19,
   "metadata": {
    "collapsed": false
   },
   "outputs": [
    {
     "data": {
      "text/html": [
       "<div>\n",
       "<style scoped>\n",
       "    .dataframe tbody tr th:only-of-type {\n",
       "        vertical-align: middle;\n",
       "    }\n",
       "\n",
       "    .dataframe tbody tr th {\n",
       "        vertical-align: top;\n",
       "    }\n",
       "\n",
       "    .dataframe thead th {\n",
       "        text-align: right;\n",
       "    }\n",
       "</style>\n",
       "<table border=\"1\" class=\"dataframe\">\n",
       "  <thead>\n",
       "    <tr style=\"text-align: right;\">\n",
       "      <th></th>\n",
       "      <th>patient1</th>\n",
       "      <th>patient2</th>\n",
       "      <th>sequences</th>\n",
       "      <th>sequences_aligned</th>\n",
       "      <th>score</th>\n",
       "    </tr>\n",
       "  </thead>\n",
       "  <tbody>\n",
       "    <tr>\n",
       "      <th>0</th>\n",
       "      <td>33496</td>\n",
       "      <td>33499</td>\n",
       "      <td>[0.D,14.D,35.C,227.C,90.D,91.B,93.D,54.D,180.A,28.C,14.C,31.C,63.C,98.C,20.C,36.B, 0.D,14.C,134.D,921.C]</td>\n",
       "      <td>[DDCCDBDDACCCCCCB, D_C_D_________C_, 4]</td>\n",
       "      <td>-2.390483</td>\n",
       "    </tr>\n",
       "    <tr>\n",
       "      <th>1</th>\n",
       "      <td>33496</td>\n",
       "      <td>33502</td>\n",
       "      <td>[0.D,14.D,35.C,227.C,90.D,91.B,93.D,54.D,180.A,28.C,14.C,31.C,63.C,98.C,20.C,36.B, 0.C,17.D,13.C,29.B,77.B,89.C,216.D,63.D,95.C,91.C,110.C,84.C,84.C,91.B,119.C,28.C,77.C,98.B,98.A,70.C,91.C,91.C,91.C,91.C,91.B,91.C,91.B,105.B,98.B]</td>\n",
       "      <td>[D_DC__CDBDD__________ACCCCC_CB__, _CDCBBC__DDCCCCCBCCCBACCCCCBCBBB, 13]</td>\n",
       "      <td>1.976237</td>\n",
       "    </tr>\n",
       "    <tr>\n",
       "      <th>2</th>\n",
       "      <td>33496</td>\n",
       "      <td>33505</td>\n",
       "      <td>[0.D,14.D,35.C,227.C,90.D,91.B,93.D,54.D,180.A,28.C,14.C,31.C,63.C,98.C,20.C,36.B, 0.D,13.C,29.A,55.D,246.C,223.D,30.D,31.C,296.C,71.D,21.D,14.D,21.D,21.D,21.D,28.D,49.D,81.D,31.D,35.D,35.D,34.C,33.D,49.C,35.C,70.C,65.C,112.C,34.C,148.C,37.C,41.C,64.C,35.C,96.A,44.C,35.C,35.C,38.C]</td>\n",
       "      <td>[D__DC__C_DB______DDA_____CCCCCCB__________, DCADCDDCCD_DDDDDDDD_DDDCDCCCCCC_CCCCCACCCC, 13]</td>\n",
       "      <td>-2.704316</td>\n",
       "    </tr>\n",
       "    <tr>\n",
       "      <th>3</th>\n",
       "      <td>33496</td>\n",
       "      <td>33508</td>\n",
       "      <td>[0.D,14.D,35.C,227.C,90.D,91.B,93.D,54.D,180.A,28.C,14.C,31.C,63.C,98.C,20.C,36.B, 0.D,252.D,181.D,84.D,402.D,244.D,173.D,182.C,219.D,247.D,126.C,108.B,87.C,195.A,98.A,91.B,182.D,33.D,15.C,15.C,35.A,91.C,64.D,21.D,32.C,42.C,182.C,24.D,14.C,46.B,49.C,91.D,51.D,14.C,35.A,56.B,92.D,13.C,47.A,114.C,42.A,141.C,14.D,125.D,50.D]</td>\n",
       "      <td>[DDC_____CD__B____DD__AC__CCC___C__C_B_________, DD_DDDDDCDDCBCAABDDCCACDDCCCDCBCDDCABDCACACDDD, 15]</td>\n",
       "      <td>-2.812613</td>\n",
       "    </tr>\n",
       "    <tr>\n",
       "      <th>4</th>\n",
       "      <td>33496</td>\n",
       "      <td>33511</td>\n",
       "      <td>[0.D,14.D,35.C,227.C,90.D,91.B,93.D,54.D,180.A,28.C,14.C,31.C,63.C,98.C,20.C,36.B, 0.B,13.A,12.A,93.A,100.A,75.A,84.A,112.B,112.A,98.A,1092.C,41.A,232.A,98.A]</td>\n",
       "      <td>[DDCCD_______BDD_ACCCCCCB___, _____BAAAAAAB__AA_____C_AAA, 3]</td>\n",
       "      <td>-9.297659</td>\n",
       "    </tr>\n",
       "  </tbody>\n",
       "</table>\n",
       "</div>"
      ],
      "text/plain": [
       "   patient1  patient2  \\\n",
       "0  33496     33499      \n",
       "1  33496     33502      \n",
       "2  33496     33505      \n",
       "3  33496     33508      \n",
       "4  33496     33511      \n",
       "\n",
       "                                                                                                                                                                                                                                                                                                                             sequences  \\\n",
       "0  [0.D,14.D,35.C,227.C,90.D,91.B,93.D,54.D,180.A,28.C,14.C,31.C,63.C,98.C,20.C,36.B, 0.D,14.C,134.D,921.C]                                                                                                                                                                                                                              \n",
       "1  [0.D,14.D,35.C,227.C,90.D,91.B,93.D,54.D,180.A,28.C,14.C,31.C,63.C,98.C,20.C,36.B, 0.C,17.D,13.C,29.B,77.B,89.C,216.D,63.D,95.C,91.C,110.C,84.C,84.C,91.B,119.C,28.C,77.C,98.B,98.A,70.C,91.C,91.C,91.C,91.C,91.B,91.C,91.B,105.B,98.B]                                                                                               \n",
       "2  [0.D,14.D,35.C,227.C,90.D,91.B,93.D,54.D,180.A,28.C,14.C,31.C,63.C,98.C,20.C,36.B, 0.D,13.C,29.A,55.D,246.C,223.D,30.D,31.C,296.C,71.D,21.D,14.D,21.D,21.D,21.D,28.D,49.D,81.D,31.D,35.D,35.D,34.C,33.D,49.C,35.C,70.C,65.C,112.C,34.C,148.C,37.C,41.C,64.C,35.C,96.A,44.C,35.C,35.C,38.C]                                            \n",
       "3  [0.D,14.D,35.C,227.C,90.D,91.B,93.D,54.D,180.A,28.C,14.C,31.C,63.C,98.C,20.C,36.B, 0.D,252.D,181.D,84.D,402.D,244.D,173.D,182.C,219.D,247.D,126.C,108.B,87.C,195.A,98.A,91.B,182.D,33.D,15.C,15.C,35.A,91.C,64.D,21.D,32.C,42.C,182.C,24.D,14.C,46.B,49.C,91.D,51.D,14.C,35.A,56.B,92.D,13.C,47.A,114.C,42.A,141.C,14.D,125.D,50.D]   \n",
       "4  [0.D,14.D,35.C,227.C,90.D,91.B,93.D,54.D,180.A,28.C,14.C,31.C,63.C,98.C,20.C,36.B, 0.B,13.A,12.A,93.A,100.A,75.A,84.A,112.B,112.A,98.A,1092.C,41.A,232.A,98.A]                                                                                                                                                                        \n",
       "\n",
       "                                                                                      sequences_aligned  \\\n",
       "0  [DDCCDBDDACCCCCCB, D_C_D_________C_, 4]                                                                \n",
       "1  [D_DC__CDBDD__________ACCCCC_CB__, _CDCBBC__DDCCCCCBCCCBACCCCCBCBBB, 13]                               \n",
       "2  [D__DC__C_DB______DDA_____CCCCCCB__________, DCADCDDCCD_DDDDDDDD_DDDCDCCCCCC_CCCCCACCCC, 13]           \n",
       "3  [DDC_____CD__B____DD__AC__CCC___C__C_B_________, DD_DDDDDCDDCBCAABDDCCACDDCCCDCBCDDCABDCACACDDD, 15]   \n",
       "4  [DDCCD_______BDD_ACCCCCCB___, _____BAAAAAAB__AA_____C_AAA, 3]                                          \n",
       "\n",
       "      score  \n",
       "0 -2.390483  \n",
       "1  1.976237  \n",
       "2 -2.704316  \n",
       "3 -2.812613  \n",
       "4 -9.297659  "
      ]
     },
     "execution_count": 19,
     "metadata": {},
     "output_type": "execute_result"
    }
   ],
   "source": [
    "results = main_algorithm(df_encoded,gap,T,ss,0)\n",
    "results.head(5)"
   ]
  },
  {
   "cell_type": "markdown",
   "metadata": {},
   "source": [
    "#### Hierarchical Clustering"
   ]
  },
  {
   "cell_type": "code",
   "execution_count": 20,
   "metadata": {
    "collapsed": false
   },
   "outputs": [],
   "source": [
    "#Convert the score matrix into a distance matrix by making all values positives\n",
    "results['score'] = 0 - results['score']\n",
    "results['score'] = results['score'] + abs(results['score'][results['score'].idxmin()])\n",
    "#results['score'] = 1/(results['score'])\n",
    "#results.loc[results['score'] == float('inf'), 'score'] = 100Z = linkage(results['score'], 'complete')"
   ]
  },
  {
   "cell_type": "code",
   "execution_count": 21,
   "metadata": {
    "collapsed": false
   },
   "outputs": [
    {
     "data": {
      "image/png": "[encoded data removed]",
      "text/plain": [
       "<matplotlib.figure.Figure at 0x27ca3a28550>"
      ]
     },
     "metadata": {},
     "output_type": "display_data"
    },
    {
     "name": "stdout",
     "output_type": "stream",
     "text": [
      "Cophenetic Correlation Coefficient: 0.498590152703\n"
     ]
    }
   ],
   "source": [
    "Z = linkage(results['score'], 'complete')\n",
    "\n",
    "plt.figure(figsize=(25, 10))\n",
    "plt.title('Hierarchical Clustering Dendrogram')\n",
    "plt.xlabel('sample index')\n",
    "plt.ylabel('distance')\n",
    "dendrogram(\n",
    "        Z,\n",
    "        #truncate_mode = 'lastp',\n",
    "        #p=6,\n",
    "        leaf_rotation=90.,  # rotates the x axis labels\n",
    "        leaf_font_size=8.,  # font size for the x axis labels\n",
    "        )\n",
    "plt.show()\n",
    "\n",
    "c, coph_dists = cophenet(Z, results['score'])\n",
    "\n",
    "print('Cophenetic Correlation Coefficient:', c)"
   ]
  },
  {
   "cell_type": "markdown",
   "metadata": {},
   "source": [
    "### Validation of Hierarchical Clustering\n",
    "To try to validate the results of Hierarchical Clustering we followed the method presented on the paper 'On validation of Hierarchical Clustering'. The implementation of this approach can be found in this [link.](http://nbviewer.jupyter.org/github/KishanRama/On-validation-of-hierarchical-clustering/blob/master/On_Validation_of_Hierarchical_Clustering_Implementation.ipynb)\n",
    "\n",
    "To decide on what values to use for our TNW parameters we decided to vary the gap penalty from -1 to 1 and follow this approach for different distance metrics as presented above.\n",
    "The tests can be found below:\n",
    "\n",
    "#### Experiment 1\n",
    "[single](http://nbviewer.jupyter.org/github/KishanRama/TNW-Reuma.pt/blob/master/validation_experiment1_reuma_single.ipynb)\n",
    "[complete](http://nbviewer.jupyter.org/github/KishanRama/TNW-Reuma.pt/blob/master/validation_experiment1_reuma_complete.ipynb)\n",
    "[average](http://nbviewer.jupyter.org/github/KishanRama/TNW-Reuma.pt/blob/master/validation_experiment1_reuma_average.ipynb)\n",
    "[centroids](http://nbviewer.jupyter.org/github/KishanRama/TNW-Reuma.pt/blob/master/validation_experiment1_reuma_centroids.ipynb)\n",
    "[ward](http://nbviewer.jupyter.org/github/KishanRama/TNW-Reuma.pt/blob/master/validation_experiment1_reuma_ward.ipynb)\n",
    "\n",
    "#### Experiment 2\n",
    "[single](http://nbviewer.jupyter.org/github/KishanRama/TNW-Reuma.pt/blob/master/validation_experiment2_reuma_single.ipynb)\n",
    "[complete](http://nbviewer.jupyter.org/github/KishanRama/TNW-Reuma.pt/blob/master/validation_experiment2_reuma_complete.ipynb)\n",
    "[average](http://nbviewer.jupyter.org/github/KishanRama/TNW-Reuma.pt/blob/master/validation_experiment2_reuma_average.ipynb)\n",
    "[centroids](http://nbviewer.jupyter.org/github/KishanRama/TNW-Reuma.pt/blob/master/validation_experiment2_reuma_centroids.ipynb)\n",
    "[ward](http://nbviewer.jupyter.org/github/KishanRama/TNW-Reuma.pt/blob/master/validation_experiment2_reuma_ward.ipynb)\n",
    "\n",
    "## Results\n",
    "\n",
    "<font color='red'>SHOW SOME GOOD CLUSTERS</font>"
   ]
  }
 ],
 "metadata": {
  "kernelspec": {
   "display_name": "Python 3",
   "language": "python",
   "name": "python3"
  },
  "language_info": {
   "codemirror_mode": {
    "name": "ipython",
    "version": 3
   },
   "file_extension": ".py",
   "mimetype": "text/x-python",
   "name": "python",
   "nbconvert_exporter": "python",
   "pygments_lexer": "ipython3",
   "version": "3.6.0"
  }
 },
 "nbformat": 4,
 "nbformat_minor": 2
}
